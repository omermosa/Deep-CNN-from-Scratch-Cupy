{
  "nbformat": 4,
  "nbformat_minor": 0,
  "metadata": {
    "colab": {
      "name": "Deep CNN Cupy.ipynb",
      "provenance": [],
      "collapsed_sections": [],
      "toc_visible": true
    },
    "kernelspec": {
      "name": "python3",
      "display_name": "Python 3"
    },
    "accelerator": "GPU"
  },
  "cells": [
    {
      "cell_type": "code",
      "metadata": {
        "id": "XHJQXSWNYQa1"
      },
      "source": [
        "import numpy as np\n",
        "import cupy as cp\n",
        "from sklearn.model_selection import train_test_split\n",
        "cp.random.seed(0)\n",
        "import pickle"
      ],
      "execution_count": null,
      "outputs": []
    },
    {
      "cell_type": "code",
      "metadata": {
        "id": "l_TJ5Qgj3LGp"
      },
      "source": [
        "import os\n",
        "import cv2 \n",
        "from skimage.transform import resize #to resize img"
      ],
      "execution_count": null,
      "outputs": []
    },
    {
      "cell_type": "code",
      "metadata": {
        "id": "qQK__DqN9WvZ"
      },
      "source": [
        ""
      ],
      "execution_count": null,
      "outputs": []
    },
    {
      "cell_type": "markdown",
      "metadata": {
        "id": "8XLmGq-S9YGH"
      },
      "source": [
        "## Download The Data"
      ]
    },
    {
      "cell_type": "code",
      "metadata": {
        "colab": {
          "base_uri": "https://localhost:8080/"
        },
        "id": "Gn9d6obB7uth",
        "outputId": "55dced7c-2951-4dcf-b6d4-bdd275ed50e9"
      },
      "source": [
        "!wget http://download.tensorflow.org/example_images/flower_photos.tgz"
      ],
      "execution_count": null,
      "outputs": [
        {
          "output_type": "stream",
          "text": [
            "--2020-12-03 04:49:22--  http://download.tensorflow.org/example_images/flower_photos.tgz\n",
            "Resolving download.tensorflow.org (download.tensorflow.org)... 74.125.195.128, 2607:f8b0:400e:c08::80\n",
            "Connecting to download.tensorflow.org (download.tensorflow.org)|74.125.195.128|:80... connected.\n",
            "HTTP request sent, awaiting response... 200 OK\n",
            "Length: 228813984 (218M) [application/x-compressed-tar]\n",
            "Saving to: ‘flower_photos.tgz’\n",
            "\n",
            "flower_photos.tgz   100%[===================>] 218.21M  88.6MB/s    in 2.5s    \n",
            "\n",
            "2020-12-03 04:49:25 (88.6 MB/s) - ‘flower_photos.tgz’ saved [228813984/228813984]\n",
            "\n"
          ],
          "name": "stdout"
        }
      ]
    },
    {
      "cell_type": "code",
      "metadata": {
        "id": "NPeHUBhD7yp_"
      },
      "source": [
        "! tar -xvzf flower_photos.tgz"
      ],
      "execution_count": null,
      "outputs": []
    },
    {
      "cell_type": "code",
      "metadata": {
        "id": "XLLkyZ5w3GOk"
      },
      "source": [
        "def load_data():\n",
        "  pd=\"/content/drive/My Drive/PMDL/A2/flower_photos\"\n",
        "  dirs=sorted(os.listdir(pd))\n",
        "  flowers_train=[]\n",
        "  classes_train=[]\n",
        "  flowers_test=[]\n",
        "  classes_test=[]\n",
        "  c=1\n",
        "  for f in dirs:\n",
        "    dir=os.path.join(pd,f)\n",
        "    if os.path.isdir(dir):\n",
        "      fs=sorted(os.listdir(dir))\n",
        "      cls=[]\n",
        "      cl=len(fs)\n",
        "      for j,k in enumerate(fs):\n",
        "        #read img, then resize to 32 by 32 (I tried multiple sizes and this yeilded best accuracy)\n",
        "        img=(cv2.imread(os.path.join(dir,k)))\n",
        "        img = resize(img, (32, 32,3))\n",
        "        if cl-(j+1)>=100: \n",
        "          flowers_train.append(np.array(img)) \n",
        "          classes_train.append(c)\n",
        "        else:#keep last 100 of each class for test\n",
        "          flowers_test.append(np.array(img)) \n",
        "          classes_test.append(c)\n",
        "      c+=1\n",
        "  flowers_train=np.array(flowers_train)\n",
        "  classes_train=np.array(classes_train)\n",
        "  flowers_test=np.array(flowers_test)\n",
        "  classes_test=np.array(classes_test)\n",
        "  #flatten the train and test data then return\n",
        "  return (flowers_train.reshape(flowers_train.shape[0],-1),classes_train,flowers_test.reshape(flowers_test.shape[0],-1),classes_test)\n",
        "    "
      ],
      "execution_count": null,
      "outputs": []
    },
    {
      "cell_type": "code",
      "metadata": {
        "id": "jEhWsnL23Rsl"
      },
      "source": [
        "X_train,y_train,X_test,y_test=load_data()"
      ],
      "execution_count": null,
      "outputs": []
    },
    {
      "cell_type": "code",
      "metadata": {
        "id": "dAzAgn363YUh"
      },
      "source": [
        "from sklearn.utils import shuffle\n",
        "X_train,y_train=shuffle(X_train,y_train)"
      ],
      "execution_count": null,
      "outputs": []
    },
    {
      "cell_type": "code",
      "metadata": {
        "id": "mGCwZ60X8TYK"
      },
      "source": [
        "X_test-=np.mean(X_test,0)\n",
        "X_test/=np.std(X_test)"
      ],
      "execution_count": null,
      "outputs": []
    },
    {
      "cell_type": "markdown",
      "metadata": {
        "id": "tkG_7z8USYN-"
      },
      "source": [
        "## Load Data"
      ]
    },
    {
      "cell_type": "code",
      "metadata": {
        "colab": {
          "base_uri": "https://localhost:8080/"
        },
        "id": "bVxVk0j4Se0G",
        "outputId": "672d214a-a0c3-4ce6-8a94-50a9fb17c386"
      },
      "source": [
        "%cd /content/drive/My Drive/PMDL/A3\n"
      ],
      "execution_count": null,
      "outputs": [
        {
          "output_type": "stream",
          "text": [
            "/content/drive/My Drive/PMDL/A2\n"
          ],
          "name": "stdout"
        }
      ]
    },
    {
      "cell_type": "code",
      "metadata": {
        "id": "C7zQpxtRSX1q"
      },
      "source": [
        "#32 32 dataset\n",
        "\n",
        "Xt=np.load('/content/drive/My Drive/PMDL/A1/Part1/X_train.npy')\n",
        "Yt=np.load('/content/drive/My Drive/PMDL/A1/Part1/y_train.npy')\n",
        "X_test=np.load('/content/drive/My Drive/PMDL/A1/Part1/X_test.npy')\n",
        "y_test=np.load('/content/drive/My Drive/PMDL/A1/Part1/y_test.npy')"
      ],
      "execution_count": null,
      "outputs": []
    },
    {
      "cell_type": "code",
      "metadata": {
        "id": "ttCoRm84Siwl"
      },
      "source": [
        "Xt=cp.array(Xt)\n",
        "Yt=cp.array(Yt)\n",
        "X_test=cp.array(X_test)\n",
        "y_test=cp.array(y_test)"
      ],
      "execution_count": null,
      "outputs": []
    },
    {
      "cell_type": "code",
      "metadata": {
        "id": "l2RU6HJU3R3B"
      },
      "source": [
        "Xt-=cp.mean(Xt,axis=0)\n",
        "Xt/=cp.std(Xt)"
      ],
      "execution_count": null,
      "outputs": []
    },
    {
      "cell_type": "code",
      "metadata": {
        "id": "RjxTEcTuTpM1"
      },
      "source": [
        "# normalize data\n",
        "X_test-=cp.mean(X_test,axis=0)\n",
        "X_test/=cp.std(X_test)"
      ],
      "execution_count": null,
      "outputs": []
    },
    {
      "cell_type": "code",
      "metadata": {
        "id": "n2TRo-8FaW18"
      },
      "source": [
        "Xt=Xt.reshape(-1,32,32,3)\n",
        "X_test=X_test.reshape(-1,32,32,3)"
      ],
      "execution_count": null,
      "outputs": []
    },
    {
      "cell_type": "code",
      "metadata": {
        "colab": {
          "base_uri": "https://localhost:8080/"
        },
        "id": "_4Nc2bgHfuiI",
        "outputId": "7bbb7551-1e0f-4612-983c-d05f0f7754b2"
      },
      "source": [
        "X_test.shape"
      ],
      "execution_count": null,
      "outputs": [
        {
          "output_type": "execute_result",
          "data": {
            "text/plain": [
              "(500, 32, 32, 3)"
            ]
          },
          "metadata": {
            "tags": []
          },
          "execution_count": 265
        }
      ]
    },
    {
      "cell_type": "markdown",
      "metadata": {
        "id": "RzfsNjpRSoxA"
      },
      "source": [
        "## Classes Implementaiton"
      ]
    },
    {
      "cell_type": "markdown",
      "metadata": {
        "id": "bUrwKv2wtCZX"
      },
      "source": [
        "### Activation Class"
      ]
    },
    {
      "cell_type": "code",
      "metadata": {
        "id": "3r2QT6MQu0wo"
      },
      "source": [
        "class Activation():\n",
        "\n",
        "  def __init__(self,fn='relu'):\n",
        "    self.fn=fn\n",
        "  \n",
        "  def forward(self,L):\n",
        "    if self.fn=='relu':\n",
        "      return cp.maximum(0,L)\n",
        "    elif self.fn=='linear':\n",
        "      return L\n",
        "    elif self.fn=='tanh':\n",
        "      return cp.tanh(L)\n",
        "    elif self.fn=='sigmoid':\n",
        "      return 1/(1+cp.exp(-L))\n",
        "\n",
        "    elif self.fn=='softmax': # for output layer\n",
        "      m=cp.max(L,axis=-1).reshape(-1,1)\n",
        "      L=L-m\n",
        "      return cp.exp(L)/cp.sum(cp.exp(L),axis=1,keepdims=True)\n",
        "  \n",
        "  def backward(self,L):\n",
        "    if self.fn=='relu': # relu grad\n",
        "      grad=cp.ones((L.shape))\n",
        "      grad[L<0]=0\n",
        "      return grad\n",
        "\n",
        "    elif self.fn=='tanh' : #tanh derivative\n",
        "      return 1-cp.tanh(L)**2\n",
        "      \n",
        "    elif self.fn=='linear' : #tanh derivative\n",
        "      return L\n",
        "  def backward_output(self,yt,yp): # derivative of the last layer\n",
        "  # NLL derivative\n",
        "    grad=(yp-yt)/cp.sum((yp),axis=1).reshape(-1,1)\n",
        "    return grad\n"
      ],
      "execution_count": null,
      "outputs": []
    },
    {
      "cell_type": "code",
      "metadata": {
        "id": "3o_d8hnFtGui"
      },
      "source": [
        ""
      ],
      "execution_count": null,
      "outputs": []
    },
    {
      "cell_type": "markdown",
      "metadata": {
        "id": "fgmsrMNgtHM7"
      },
      "source": [
        "### Input Layer"
      ]
    },
    {
      "cell_type": "code",
      "metadata": {
        "id": "6My9VPy7CreG"
      },
      "source": [
        "class Input(): # input layer\n",
        "  def __init__(self,input_shape):\n",
        "    self.input_shape=input_shape\n",
        "    self.output_shape=input_shape"
      ],
      "execution_count": null,
      "outputs": []
    },
    {
      "cell_type": "markdown",
      "metadata": {
        "id": "UjQIhRCbtJn3"
      },
      "source": [
        "### Dense Layer"
      ]
    },
    {
      "cell_type": "code",
      "metadata": {
        "id": "iBj7oKZi2sDu"
      },
      "source": [
        "class Dense():\n",
        "  \n",
        "  def __init__(self, n_nodes,activ_fn='relu'):\n",
        "    self.n_nodes=n_nodes\n",
        "    self.activation=Activation(activ_fn)\n",
        "    self.activ_fn=activ_fn\n",
        "\n",
        "\n",
        "  def initialization(self,A_prev_dim):\n",
        "    input_shape=A_prev_dim\n",
        "    # wts init.\n",
        "\n",
        "    self.Ws= cp.random.normal(0,cp.sqrt(2 / input_shape[0]),size=(*input_shape, self.n_nodes))   #xavier initializaation\n",
        "    self.b = cp.zeros((self.n_nodes,1))\n",
        "\n",
        "\n",
        "    # for adam optim\n",
        "    self.v_ws=cp.zeros(self.Ws.shape)\n",
        "    self.acc_ws=cp.zeros(self.Ws.shape)\n",
        "    self.v_b=cp.zeros(self.b.shape)\n",
        "    self.acc_b=cp.zeros(self.b.shape)\n",
        "\n",
        "    self.b1=0.99\n",
        "    self.b2=0.999\n",
        "    \n",
        "    self.output_shape=(self.n_nodes,)\n",
        " \n",
        "    \n",
        "  def forward_prop(self,A_prev,for_prediction=False):\n",
        "    m=A_prev.shape[0] # num of examples\n",
        "    #linear Activation\n",
        "    L=cp.dot(self.Ws.T,A_prev.T)+self.b\n",
        "    L=L.T\n",
        "\n",
        "    self.m=m\n",
        "    self.A_prev=A_prev\n",
        "    self.L=L\n",
        "    self.A=self.activation.forward(L) # apply activation\n",
        "\n",
        "    return self.A\n",
        "\n",
        "  def backward_prop(self,dA_prev):\n",
        "\n",
        "    if self.activ_fn !='softmax': # not output layer\n",
        "      dL=self.activation.backward(self.L)*dA_prev # linear grad\n",
        "    else:\n",
        "      dL=dA_prev\n",
        "    \n",
        "    dW=1/self.m*cp.dot(self.A_prev.T,dL) # grad of W\n",
        "    db=1/self.m*cp.sum(dL, axis=0,keepdims=True) \n",
        "    db=db.T\n",
        "\n",
        "    dA_prev=cp.dot(dL,self.Ws.T) # output Grad\n",
        "\n",
        "    self.dWs,self.db=dW,db\n",
        "    return dW,db,dA_prev\n",
        "  \n",
        "\n",
        "  def update_wts(self,lr,t=0,adam=True): # default to Adam\n",
        "    \n",
        "    if not adam:\n",
        "      self.Ws-=lr*self.dWs\n",
        "      self.db-=lr*self.db\n",
        "      return\n",
        "    \n",
        "    #bias correction\n",
        "    eps=1e-7\n",
        "    bias_correction1=1-self.b1**t\n",
        "    \n",
        "    bias_correction2=1-self.b2**t\n",
        "\n",
        "    #Adam update for Ws\n",
        "\n",
        "    self.v_ws=self.v_ws*(self.b1)+(1-self.b1)*self.dWs\n",
        "    self.acc_ws=self.acc_ws*self.b2+(1-self.b2)*(self.dWs**2)\n",
        "\n",
        "    # self.v_ws/=(bias_correction1)\n",
        "    # self.acc_ws/= (bias_correction2)\n",
        "\n",
        "    self.Ws=self.Ws-lr*self.v_ws/(cp.sqrt(self.acc_ws)+eps)\n",
        "\n",
        "    #Adam update for b\n",
        "\n",
        "    self.v_b=self.v_b*(self.b1)+(1-self.b1)*self.db\n",
        "    self.acc_b=self.acc_b*self.b2+(1-self.b2)*(self.db**2)\n",
        "\n",
        "    # self.v_b/=(bias_correction1)\n",
        "    # self.acc_b/= (bias_correction2)\n",
        "\n",
        "    self.b=self.b-lr*self.v_b/(cp.sqrt(self.acc_b)+eps)\n",
        "\n",
        "  \n",
        "  \n"
      ],
      "execution_count": null,
      "outputs": []
    },
    {
      "cell_type": "code",
      "metadata": {
        "id": "CphrC34htMJY"
      },
      "source": [
        ""
      ],
      "execution_count": null,
      "outputs": []
    },
    {
      "cell_type": "markdown",
      "metadata": {
        "id": "H5nvGIZftMgq"
      },
      "source": [
        "### Dropout Layer Calss"
      ]
    },
    {
      "cell_type": "code",
      "metadata": {
        "id": "9l5-Qxf5h3Kr"
      },
      "source": [
        "class Dropout_Layer(object):\n",
        "  def __init__(self,rate):\n",
        "    self.rate=rate # dropout rate\n",
        "  \n",
        "  def initialization(self,input_shape):\n",
        "    self.input_shape=input_shape\n",
        "    self.output_shape=input_shape # same output\n",
        "  \n",
        "  def forward_prop(self,Aprev,for_prediction=False):\n",
        "    #drop_mask=cp.random.rand(*self.input_shape)\n",
        "    if for_prediction: # for predictiob -> no dropout\n",
        "      return Aprev\n",
        "    drop_mask= cp.random.binomial(1, self.rate, size=Aprev.shape) / self.rate #drop_mask>= self.rate\n",
        "    self.drop_mask=drop_mask\n",
        "    A_out=Aprev*self.drop_mask\n",
        "    #A_out=A_out/(self.rate)\n",
        "    return A_out\n",
        "  \n",
        "  def backward_prop(self,dA_prev):\n",
        "\n",
        "    dA_out=dA_prev*self.drop_mask\n",
        "    #dA_out=dA_out/(self.rate)\n",
        "    return None,None,dA_out\n",
        "  \n",
        "  def update_wts(self,lr,t=0,adam=True):\n",
        "    pass\n",
        "\n"
      ],
      "execution_count": null,
      "outputs": []
    },
    {
      "cell_type": "code",
      "metadata": {
        "id": "P_F94qP3tRca"
      },
      "source": [
        ""
      ],
      "execution_count": null,
      "outputs": []
    },
    {
      "cell_type": "markdown",
      "metadata": {
        "id": "xa7gJsoxtSha"
      },
      "source": [
        "### Flatten Layer Class"
      ]
    },
    {
      "cell_type": "code",
      "metadata": {
        "id": "DpSEyG9G7EPb"
      },
      "source": [
        "class Flattening_Layer():\n",
        "\n",
        "  def __init__(self):\n",
        "    pass\n",
        "  \n",
        "  def initialization(self,A_shape):\n",
        "    self.input_shape=A_shape # input shae\n",
        "\n",
        "    print(A_shape)\n",
        "    out=1\n",
        "    for s in A_shape:\n",
        "      out*=s  # output share = mult of all elements of the input shape\n",
        "\n",
        "    self.output_shape=(out,)\n",
        "\n",
        "  \n",
        "  def forward_prop(self,A,for_prediction=False):\n",
        "    self.m=A.shape[0]\n",
        "\n",
        "    return A.reshape(self.m,-1) # reshape out\n",
        "  \n",
        "  def backward_prop(self,dA):\n",
        "    return None,None,dA.reshape(self.m,*self.input_shape) # reshape\n",
        "  \n",
        "  def update_wts(self,lr,t=0,adam=True): # no implementation\n",
        "    pass\n",
        "\n",
        "\n"
      ],
      "execution_count": null,
      "outputs": []
    },
    {
      "cell_type": "code",
      "metadata": {
        "id": "96Cte0W_tVpA"
      },
      "source": [
        ""
      ],
      "execution_count": null,
      "outputs": []
    },
    {
      "cell_type": "markdown",
      "metadata": {
        "id": "muJ7Hg7CtWDx"
      },
      "source": [
        "### MaxPooling Layer Calss"
      ]
    },
    {
      "cell_type": "code",
      "metadata": {
        "id": "XBXm27pvZ7Hu"
      },
      "source": [
        "class MaxPooling():\n",
        "\n",
        "  def __init__(self,filter_size,stride):\n",
        "    self.filter_size=filter_size\n",
        "    self.stride=stride\n",
        "  \n",
        "\n",
        "  def initialization(self,A_prev_shape):\n",
        "\n",
        "    # initiaization of shapes \n",
        "    self.H_prev,self.W_prev,self.n_filters_prev=A_prev_shape[0],A_prev_shape[1],A_prev_shape[2]\n",
        "    self.H_out=int((self.H_prev-self.filter_size)/self.stride)+1 # apply equaiton\n",
        "    self.W_out=int((self.W_prev-self.filter_size)/self.stride)+1\n",
        "    self.n_filters_out=self.n_filters_prev # same output filter sizes\n",
        "\n",
        "    self.output_shape=( self.H_out,self.W_out,self.n_filters_out) # output shape for sequential model purposes\n",
        "    print(self.output_shape)\n",
        "\n",
        "  def forward_prop(self,Aprev,for_prediction=False):\n",
        "    # a prev shape (m,H,W,n_filters)\n",
        "    self.Aprev=Aprev\n",
        "\n",
        "    m=Aprev.shape[0] # num of examples\n",
        "\n",
        "    A_out=cp.ones((m,self.H_out,self.W_out,self.n_filters_out)) # output activation map\n",
        "    \n",
        "    for i in range(self.H_out): #loop over the shape of the output\n",
        "      s1=i*self.stride #slide start\n",
        "      e1=self.filter_size+s1 # slice end\n",
        "\n",
        "      for j in range(self.W_out):\n",
        "        s2=j*self.stride # slice start\n",
        "        e2=self.filter_size+s2 # slice end\n",
        "\n",
        "        A_out[:,i,j,:]=cp.max(Aprev[:,s1:e1,s2:e2,:],axis=(1,2)) # get the maximum of every slice \n",
        "    self.A_out=A_out\n",
        "    self.m=m\n",
        "    return self.A_out\n",
        "\n",
        "\n",
        "  def backward_prop(self,dA):\n",
        "    # prev gradient shape (m,H,W,C)\n",
        "\n",
        "    dA_out=cp.ones((self.m,self.H_prev,self.W_prev,self.n_filters_prev))\n",
        "\n",
        "    for i in range(self.H_out): # loop over the shape of the input grad\n",
        "      s1=i*self.stride #slide start\n",
        "      e1=self.filter_size+s1 # slice end\n",
        "\n",
        "      for j in range(self.W_out):\n",
        "        s2=j*self.stride # slice start\n",
        "        e2=self.filter_size+s2 # slice end\n",
        "\n",
        "        # get deriative by getting the max element and zero the other of each slice\n",
        "        values=self.Aprev[:,s1:e1,s2:e2,:]\n",
        "        grads=cp.ones(values.shape)\n",
        "\n",
        "        values=values.reshape(values.shape[0],-1,values.shape[-1]) # reshape to take argmax\n",
        "        org_vlaue_shape=values.shape\n",
        "        values=cp.argmax(values,axis=1) # argmax the value to get the max indics\n",
        "        orginial_shape=grads.shape\n",
        "        grads=grads.reshape(org_vlaue_shape)\n",
        "        #print('grad', orginial_shape, 'val', values.shape)\n",
        "\n",
        "        # places coreepponding to the maxiumm have grad =1\n",
        "        i1,i2=cp.indices((orginial_shape[0],orginial_shape[3]))\n",
        "        grads[i1,values,i2]=1\n",
        "        grads=grads.reshape(orginial_shape)\n",
        "\n",
        "        # accumulate gradient by multiply by gradient\n",
        "        dA_out[:,s1:e1,s2:e2,:]=dA[:,i:i+1,j:j+1,:]*grads\n",
        "    \n",
        "    return None,None,dA_out\n",
        "  \n",
        "  def update_wts(self,lr,t=0,adam=True):\n",
        "    return\n",
        "\n"
      ],
      "execution_count": null,
      "outputs": []
    },
    {
      "cell_type": "markdown",
      "metadata": {
        "id": "e6vFoafJtbXP"
      },
      "source": [
        "### Conv2D Layer Class"
      ]
    },
    {
      "cell_type": "code",
      "metadata": {
        "id": "NpjzzNYqtbDJ"
      },
      "source": [
        ""
      ],
      "execution_count": null,
      "outputs": []
    },
    {
      "cell_type": "code",
      "metadata": {
        "id": "tCHeH1GdiNws"
      },
      "source": [
        "class Conv2D():\n",
        "\n",
        "  def __init__(self, n_filters,filter_size,stride,padding=None,activ_fn='relu'):\n",
        "    self.n_filters=n_filters\n",
        "    self.filter_size=filter_size\n",
        "    self.stride=stride\n",
        "    self.padding=padding\n",
        "    self.activation=Activation(activ_fn) # activation function \n",
        "\n",
        "  \n",
        "  def initialization(self, input_shape):\n",
        "     # A_prev size= (m,Hprev,Wprev,n_filtersprev)\n",
        "    self.H_prev,self.W_prev,self.n_filters_prev=input_shape[0],input_shape[1],input_shape[2]\n",
        "\n",
        "    if self.padding=='same':\n",
        "       # padding equation adapted for stride size\n",
        "        p=int((self.filter_size+(self.H_prev)*self.stride-self.H_prev-1)/2)\n",
        "        \n",
        "    else:\n",
        "      p=0\n",
        "    \n",
        "    #output activation map shape\n",
        "    self.H_out=int((self.H_prev+2*p-self.filter_size)/self.stride)+1\n",
        "    self.W_out=int((self.W_prev-self.filter_size+2*p)/self.stride)+1\n",
        "\n",
        "\n",
        "   \n",
        "    \n",
        "    #Wts init.\n",
        "    nout=(self.filter_size*self.filter_size*self.n_filters) # Xavier for Conv Layers\n",
        "    self.Ws=cp.random.normal(0,cp.sqrt(2/nout),size=(self.filter_size,self.filter_size,self.n_filters_prev,self.n_filters))\n",
        "    self.b=cp.zeros((1,1,1,self.n_filters))\n",
        "\n",
        "    # for adam optim\n",
        "    self.v_ws=cp.zeros(self.Ws.shape)\n",
        "    self.acc_ws=cp.zeros(self.Ws.shape)\n",
        "    self.v_b=cp.zeros(self.b.shape)\n",
        "    self.acc_b=cp.zeros(self.b.shape)\n",
        "\n",
        "    self.b1=0.9\n",
        "    self.b2=0.999\n",
        "    \n",
        "    # for sequential model\n",
        "    self.output_shape=(self.H_out,self.W_out,self.n_filters)\n",
        "    self.p=p\n",
        "\n",
        "    print(\"conv 2d \", self.output_shape)\n",
        "  \n",
        "  def forward_prop(self, Aprev,for_prediction=False):\n",
        "    \n",
        "\n",
        "    if self.padding=='same':\n",
        "      p=self.p\n",
        "      Aprev=cp.pad(Aprev, ((0, 0), (p, p), (p, p), (0, 0)), mode='constant') # padd with zeros\n",
        "\n",
        "    self.Aprev=Aprev\n",
        "\n",
        "    m=Aprev.shape[0] # num of examples\n",
        "    self.m=m\n",
        "\n",
        "    A_out=cp.ones((m,self.H_out,self.W_out,self.n_filters)) # output activation map\n",
        "\n",
        "\n",
        "    # loop over the output activation map\n",
        "    for i in range(self.H_out):\n",
        "      s1=i*self.stride #slide start\n",
        "      e1=self.filter_size+s1 # slice end\n",
        "\n",
        "      for j in range(self.W_out):\n",
        "        s2=j*self.stride # slice start\n",
        "        e2=self.filter_size+s2 # slice end\n",
        "\n",
        "        map_slice=Aprev[:,s1:e1,s2:e2,:]\n",
        "        \n",
        "        # BroadCast , convole and sum on the the number width, height, depth of input the activation slice\n",
        "        A_out[:,i,j,:]=cp.sum(map_slice[:,:,:,:,cp.newaxis]*self.Ws[cp.newaxis,:,:,:,:],axis=(1,2,3))\n",
        "    \n",
        "    self.L=A_out+self.b\n",
        "    self.A=self.activation.forward(self.L) # apply activation\n",
        "\n",
        "\n",
        "    return self.A\n",
        "\n",
        "  def backward_prop(self,dA):\n",
        "\n",
        "    # dA dim (m,H_prev,W_prev,C_prev)\n",
        "    dA_out=cp.zeros(self.Aprev.shape) # same dim as Aprev\n",
        "\n",
        "    # if there is padding\n",
        "    Aprev=self.Aprev\n",
        "    if self.padding=='same':\n",
        "      p=int((self.filter_size-1)/2)\n",
        "      p=self.p\n",
        "      #dA_out=cp.pad(dA_out, ((0, 0), (p, p), (p, p), (0, 0)), mode='constant')\n",
        "      #Aprev=cp.pad(Aprev, ((0, 0), (p, p), (p, p), (0, 0)), mode='constant') # padd with zeros\n",
        "    else:\n",
        "      p=0\n",
        "\n",
        "    dL=self.activation.backward(self.L)*dA # linear grad- similar to Dense\n",
        "    db=1/self.m*cp.sum(dL,keepdims=True,axis=(0,1,2))\n",
        "    dWs=cp.zeros(self.Ws.shape)\n",
        "\n",
        "    # loop over the slices of dA\n",
        "    for i in range(self.H_out):\n",
        "      s1=i*self.stride #slide start\n",
        "      e1=self.filter_size+s1 # slice end\n",
        "\n",
        "      for j in range(self.W_out):\n",
        "        s2=j*self.stride # slice start\n",
        "        e2=self.filter_size+s2 # slice \n",
        "        #print(dWs.flatten()[0])\n",
        "        #Broadcast convole and sum on the num of exampls to add to dW\n",
        "        dWs=dWs+cp.sum(dL[:,i:i+1,j:j+1,cp.newaxis,:]*Aprev[:,s1:e1,s2:e2,:,cp.newaxis],axis=0)\n",
        "\n",
        "        # Broadcast convole and sum on the n_filters of the preceding layer to add to grad out\n",
        "\n",
        "        dA_out[:,s1:e1,s2:e2,:]+=cp.sum(dL[:,i:i+1,j:j+1,cp.newaxis,:]*self.Ws[cp.newaxis,:,:,:,:],axis=4) \n",
        "\n",
        "    \n",
        "    # if padding was same, remove the padded zeros before returning the gradiens\n",
        "    if p>0:\n",
        "      dWs=dWs/self.m # divide by num of examples\n",
        "      self.dWs=dWs\n",
        "      self.db=db\n",
        "      dA_out=dA_out[:,p:-p,p:-p,:]\n",
        "\n",
        "      return dWs,db,dA_out\n",
        "\n",
        "    else:\n",
        "      dWs=dWs/self.m # divide by num of examples\n",
        "      self.dWs=dWs\n",
        "      self.db=db\n",
        "      return dWs,db,dA_out\n",
        "    \n",
        "\n",
        "  def update_wts(self,lr,t=0,adam=True):\n",
        "    if not adam:\n",
        "      self.Ws-=lr*self.dWs\n",
        "      self.db-=lr*self.db\n",
        "      return\n",
        "    \n",
        "    eps=1e-7\n",
        "    bias_correction1=1-self.b1**t\n",
        "    \n",
        "    bias_correction2=1-self.b2**t\n",
        "\n",
        "    #Adam update for Ws\n",
        "\n",
        "    self.v_ws=self.v_ws*(self.b1)+(1-self.b1)*self.dWs\n",
        "    self.acc_ws=self.acc_ws*self.b2+(1-self.b2)*(self.dWs**2)\n",
        "\n",
        "    # self.v_ws/=(bias_correction1)\n",
        "    # self.acc_ws/= (bias_correction2)\n",
        "\n",
        "    self.Ws=self.Ws-lr*self.v_ws/(cp.sqrt(self.acc_ws)+eps)\n",
        "\n",
        "    #Adam update for b\n",
        "\n",
        "    self.v_b=self.v_b*(self.b1)+(1-self.b1)*self.db\n",
        "    self.acc_b=self.acc_b*self.b2+(1-self.b2)*(self.db**2)\n",
        "\n",
        "    # self.v_b/=(bias_correction1)\n",
        "    # self.acc_b/= (bias_correction2)\n",
        "\n",
        "    self.b=self.b-lr*self.v_b/(cp.sqrt(self.acc_b)+eps)\n",
        "\n",
        "\n"
      ],
      "execution_count": null,
      "outputs": []
    },
    {
      "cell_type": "code",
      "metadata": {
        "id": "ebE2tAULtflP"
      },
      "source": [
        ""
      ],
      "execution_count": null,
      "outputs": []
    },
    {
      "cell_type": "markdown",
      "metadata": {
        "id": "lUlZYlArtfvb"
      },
      "source": [
        "### Sequential Model Class "
      ]
    },
    {
      "cell_type": "code",
      "metadata": {
        "id": "qiPEgx5ryEii"
      },
      "source": [
        "class Model(): # make a sequential model\n",
        "\n",
        "  def __init__(self):\n",
        "    pass\n",
        "  \n",
        "  def Sequential(self,list_of_layers):\n",
        "    self.list_of_layers=list_of_layers # list of layer objects\n",
        "    prev_layer=list_of_layers[0]\n",
        "\n",
        "    #initialize all layers\n",
        "    for ly in self.list_of_layers[1:]:\n",
        "      ly.initialization(prev_layer.output_shape) # initalize each layer\n",
        "      prev_layer=ly\n",
        "    \n",
        "  \n",
        "  def forward_all(self,X,for_prediction=False): # forward prop if each layer excpt the Input\n",
        "    A_prev=X\n",
        "    for ly in self.list_of_layers[1:]:\n",
        "      A_prev=ly.forward_prop(A_prev,for_prediction)\n",
        "    \n",
        "    return A_prev\n",
        "  \n",
        "\n",
        "\n",
        "  def output_grad(self,yt,yp): # NLL derivative\n",
        "    grad=(yp-yt)/cp.sum((yp),axis=1).reshape(-1,1)\n",
        "    return grad  \n",
        "\n",
        "  def loss(self,y_pred,y_true): # loss function \n",
        "    id=np.eye(y_pred.shape[1])[cp.asnumpy(y_true).astype(np.int32)-1].astype(np.bool)\n",
        "      # take - log of the correct class probability\n",
        "    sms=cp.sum(y_pred,axis=1).reshape(-1,1)\n",
        "    sm=y_pred[id].reshape(-1,1)/sms\n",
        "    ls=1/y_true.shape[0]*cp.sum(-cp.log(sm)) # the y is already a softmax form, take - log\n",
        "    \n",
        "    return ls\n",
        "  \n",
        "  def backward_all(self,yp,yt): # backward all layers except the first one\n",
        "\n",
        "    dAprev=self.output_grad(yt,yp)\n",
        "\n",
        "    \n",
        "    for ly in reversed(self.list_of_layers[1:]):\n",
        "      #print(f' type {type(ly)}dA {dAprev.flatten()[1:2]}')\n",
        "      dWs,db,dAprev=ly.backward_prop(dAprev)\n",
        "    \n",
        "    #print(f' type {type(ly)}dA {dAprev.flatten()[1:2]}')\n",
        "    #print(\"--------------------\")\n",
        "    return dAprev\n",
        "  \n",
        "  def update_wts_all(self,lr,t,adam): # update all teh wts of the layers\n",
        "\n",
        "    for ly in self.list_of_layers[1:]:\n",
        "      ly.update_wts(lr,t,adam)\n",
        "  \n",
        "  def train_val_split(self,Xt,Yt,ratio): #split train and validation\n",
        "    X_train,X_val,y_train,y_val=train_test_split(Xt,Yt,test_size=ratio)\n",
        "    return ( X_train,X_val,y_train,y_val)\n",
        "\n",
        "\n",
        "  def Train(self,Xt,Yt,n_epochs,lr,train_val_ratio=0.1,batch_size=-1,verbose=True,adam=True,validation_data=None): # train the  on X,Y\n",
        "    \n",
        "    n_classes=len(cp.unique(Yt))\n",
        "    lss_tr,ls_val=[],[]\n",
        "    ac_tr,ac_val=[],[]\n",
        "\n",
        "    if validation_data:\n",
        "      X_train=Xt\n",
        "      y_train=Yt\n",
        "      X_val,y_val=validation_data\n",
        "    else:\n",
        "      X_train,X_val,y_train,y_val=self.train_val_split(Xt,Yt,train_val_ratio) # split train, val\n",
        "    \n",
        "    yt=cp.eye(n_classes)[cp.asnumpy(y_train).astype(cp.int32)-1]\n",
        "    yv=cp.eye(n_classes)[cp.asnumpy(y_val).astype(cp.int32)-1]\n",
        "\n",
        "    m=Yt.shape[0] #num examples\n",
        "    self.lr=lr\n",
        "    ts=y_train.shape[0]\n",
        "\n",
        "    #p=self.Predict(X_val)\n",
        "    #prev_val_acc=self.compute_acc(p,y_val)\n",
        "    s=0\n",
        "    for i in range(n_epochs+1):\n",
        "      \n",
        "      if batch_size!=-1: # check if there is minibatches\n",
        "        n_batches=ts//batch_size\n",
        "        for j in range(n_batches-1): # run minibatch GD\n",
        "            s+=1\n",
        "\n",
        "            y_pred=self.forward_all(X_train[j*batch_size:(j+1)*batch_size])\n",
        "            dA=self.backward_all(y_pred,yt[j*batch_size:(j+1)*batch_size])\n",
        "            self.update_wts_all(lr,s,adam)\n",
        "\n",
        "      else: #feed all data\n",
        "        y_pred=self.forward_all(X_train)\n",
        "        dA=self.backward_all(y_pred,yt)\n",
        "        self.update_wts_all(lr,s,adam)\n",
        "\n",
        "\n",
        "      yp=self.Predict(X_train)\n",
        "      yvp=self.Predict(X_val)\n",
        "\n",
        "     \n",
        "      #losses and accs for validation and test\n",
        "      lst=self.loss(yp,y_train)\n",
        "      lsv=self.loss(yvp,y_val)\n",
        "      act=self.compute_acc(yp,y_train)\n",
        "      acv=self.compute_acc(yvp,y_val)\n",
        "      lss_tr.append(lst)\n",
        "      ls_val.append(lsv)\n",
        "      ac_tr.append(act)\n",
        "      ac_val.append(acv)\n",
        "\n",
        "\n",
        "      if verbose and i%5==0 : #print epoch info\n",
        "          print(\"Epoch %d Train Loss is %f and Train Accuracy is %10f.. Val Loss is %f & Val Accuracy is %f..\"%(i,lst,act,lsv,acv))\n",
        "    return {'train_loss':lss_tr,'train_acc':ac_tr,'val_loss':ls_val,'val_acc':ac_val} #model History loss & accuracy\n",
        "\n",
        "  def compute_acc(self,yp,yt): # get prediction accuracy\n",
        "    return cp.sum(cp.argmax(yp,axis=1)+1==yt)/yt.shape[0]\n",
        "\n",
        "  def Predict(self,X): #predict test or val\n",
        "    yp=self.forward_all(X,for_prediction=True)\n",
        "    return yp\n",
        "\n",
        "\n",
        "  def evaluate(self,X_test,y_test): # evaluate the model on test\n",
        "    yp=self.Predict(X_test)\n",
        "    acc=self.compute_acc(yp,y_test)\n",
        "    return acc\n",
        "  \n",
        "  def save_model(self,name,lr): #save model as pickle file\n",
        "    check_point={}\n",
        "   \n",
        "    check_point['num_layers']=len(self.list_of_layers)\n",
        "    check_point['lr']=lr\n",
        "    check_point['layers']=(self.list_of_layers)\n",
        "\n",
        "    with open(name+'.pickle', 'wb') as f:\n",
        "      pickle.dump(check_point, f)\n",
        "  \n",
        "  def load_model(self,name): # load model to use to continue training or for prediction\n",
        "    with open(name,'rb') as f:\n",
        "      model=pickle.load(f)\n",
        "    \n",
        "    # load all model parameters\n",
        "    self.list_of_layers=model['layers'] \n",
        "    self.lr=model['lr']\n",
        " \n",
        "  def CCRn(self,yt,X_test): # correct clssification rate per class\n",
        "    yhat=self.Predict(X_test)\n",
        "    yp=cp.argmax(yhat,axis=1)+1\n",
        "    cls,counts=np.unique(cp.asnumpy(yt),return_counts=True)\n",
        "    ccrns={}\n",
        "    cls_sizes={}\n",
        "    for i,y in enumerate(cp.asnumpy(yt)):\n",
        "      if y in cls_sizes:\n",
        "        cls_sizes[y]+=1\n",
        "      else:\n",
        "        cls_sizes[y]=1\n",
        "      if yp[i]==y:\n",
        "        if y in ccrns:\n",
        "          ccrns[y]+=1\n",
        "        else:\n",
        "          ccrns[y]=1\n",
        "    for c in cls:\n",
        "      ccrns[c]/=cls_sizes[c] #return accuracy by dividing over size of each class \n",
        "    return ccrns\n",
        "  \n",
        "\n",
        "\n"
      ],
      "execution_count": null,
      "outputs": []
    },
    {
      "cell_type": "markdown",
      "metadata": {
        "id": "Kfk04Poytq-l"
      },
      "source": [
        "## Learning Rate Search"
      ]
    },
    {
      "cell_type": "code",
      "metadata": {
        "id": "GSvlJ65jSP7E",
        "colab": {
          "base_uri": "https://localhost:8080/"
        },
        "outputId": "83fdb4d2-ae68-4284-8a38-adb7ee722a81"
      },
      "source": [
        "model=Model() # instantiating a model\n",
        "model.Sequential([\n",
        "                          Input((32,32,3)),\n",
        "                          #Conv2D(16,5,1,'same'),\n",
        "                          #MaxPooling(2,1),\n",
        "\n",
        "                          Conv2D(8,3,1,activ_fn='relu',padding='same'),\n",
        "                          MaxPooling(2,2),\n",
        "                          Conv2D(16,3,1,activ_fn='relu',padding='same'),\n",
        "                          MaxPooling(2,2),\n",
        "                          #Dropout_Layer(0.3),\n",
        "                  \n",
        "                          Conv2D(32,3,1,'same',activ_fn='relu'),\n",
        "                          MaxPooling(2,2),\n",
        "              \n",
        "                          #Dropout_Layer(0.3),\n",
        "                  \n",
        "                          Flattening_Layer(),\n",
        "                          Dense(100),\n",
        "                          Dropout_Layer(0.3),                 \n",
        "                          \n",
        "                          Dense(100),\n",
        "                          Dropout_Layer(0.3),\n",
        "\n",
        "                          Dense(5,'softmax')])\n"
      ],
      "execution_count": null,
      "outputs": [
        {
          "output_type": "stream",
          "text": [
            "conv 2d  (32, 32, 8)\n",
            "(16, 16, 8)\n",
            "conv 2d  (16, 16, 16)\n",
            "(8, 8, 16)\n",
            "conv 2d  (8, 8, 32)\n",
            "(4, 4, 32)\n",
            "(4, 4, 32)\n"
          ],
          "name": "stdout"
        }
      ]
    },
    {
      "cell_type": "code",
      "metadata": {
        "colab": {
          "base_uri": "https://localhost:8080/"
        },
        "id": "NYjKgjodbF8X",
        "outputId": "0e387226-3015-469b-b99a-bcee0c6a9b47"
      },
      "source": [
        "high_lr=0.5\n",
        "low_lr=0.00001\n",
        "Lss=[]\n",
        "for lr in [high_lr,low_lr]:\n",
        "  H=model.Train(Xt,Yt,10,lr,verbose=True)\n",
        "\n",
        "  print(\"finished lr %f\"%(lr))\n",
        "  Lss.append(min(H['val_loss']))"
      ],
      "execution_count": null,
      "outputs": [
        {
          "output_type": "stream",
          "text": [
            "Epoch 0 Train Loss is 1.606336 and Train Accuracy is   0.248861.. Val Loss is 1.594477 & Val Accuracy is 0.277603..\n",
            "Epoch 5 Train Loss is 1.746076 and Train Accuracy is   0.248861.. Val Loss is 1.701024 & Val Accuracy is 0.277603..\n",
            "Epoch 10 Train Loss is 1.642117 and Train Accuracy is   0.220820.. Val Loss is 1.642732 & Val Accuracy is 0.217666..\n",
            "finished lr 0.500000\n",
            "Epoch 0 Train Loss is 1.641846 and Train Accuracy is   0.219068.. Val Loss is 1.645171 & Val Accuracy is 0.233438..\n",
            "Epoch 5 Train Loss is 1.641844 and Train Accuracy is   0.219068.. Val Loss is 1.645170 & Val Accuracy is 0.233438..\n",
            "Epoch 10 Train Loss is 1.641839 and Train Accuracy is   0.219068.. Val Loss is 1.645165 & Val Accuracy is 0.233438..\n",
            "finished lr 0.000010\n"
          ],
          "name": "stdout"
        }
      ]
    },
    {
      "cell_type": "code",
      "metadata": {
        "id": "5c6DV0xCbGBu"
      },
      "source": [
        ""
      ],
      "execution_count": null,
      "outputs": []
    },
    {
      "cell_type": "markdown",
      "metadata": {
        "id": "ww7B1DnIb16a"
      },
      "source": [
        "### run coarse search"
      ]
    },
    {
      "cell_type": "code",
      "metadata": {
        "colab": {
          "base_uri": "https://localhost:8080/"
        },
        "id": "CAfME8j4bGFN",
        "outputId": "8a0ee549-e6ac-4f12-f50b-dbc8b37c3af6"
      },
      "source": [
        "# coarse search for lr\n",
        "#try 20 values\n",
        "Lss={}\n",
        "for i in range(20):\n",
        "  lr=5*10**np.random.uniform(-1,-5) # limits of lr are 5*10^-1, 10^-4\n",
        "  H=model.Train(Xt,Yt,10,lr,adam=True,verbose=False)\n",
        "  print(\"finished lr %f, min loss %f\"%(lr,min(H['val_loss'])))\n",
        "  Lss[lr]=(min(H['val_loss']))"
      ],
      "execution_count": null,
      "outputs": [
        {
          "output_type": "stream",
          "text": [
            "finished lr 0.004051, min loss 1.645967\n",
            "finished lr 0.068655, min loss 1.610504\n",
            "finished lr 0.001953, min loss 1.626345\n",
            "finished lr 0.000776, min loss 1.642456\n",
            "finished lr 0.032992, min loss 1.621287\n",
            "finished lr 0.000074, min loss 1.642454\n",
            "finished lr 0.000053, min loss 1.627257\n",
            "finished lr 0.329873, min loss 1.611738\n",
            "finished lr 0.001401, min loss 2.193727\n",
            "finished lr 0.000067, min loss 2.120545\n",
            "finished lr 0.002438, min loss 2.092755\n",
            "finished lr 0.006011, min loss 1.995132\n",
            "finished lr 0.235740, min loss 1.826854\n",
            "finished lr 0.000065, min loss 2.529305\n",
            "finished lr 0.208321, min loss 2.484456\n",
            "finished lr 0.004017, min loss 3.023035\n",
            "finished lr 0.264224, min loss 2.954833\n",
            "finished lr 0.000127, min loss 3.122138\n",
            "finished lr 0.000729, min loss 2.712675\n",
            "finished lr 0.000120, min loss 2.915902\n"
          ],
          "name": "stdout"
        }
      ]
    },
    {
      "cell_type": "code",
      "metadata": {
        "colab": {
          "base_uri": "https://localhost:8080/",
          "height": 312
        },
        "id": "T2dV8tk8bGIb",
        "outputId": "8be542e4-3fbb-4130-dd18-312060a16aff"
      },
      "source": [
        "ls=cp.asnumpy(list(Lss.values()))\n",
        "plt.scatter(list(Lss.keys()),ls)\n",
        "plt.xlabel(\"lr\")\n",
        "plt.ylabel('val loss')\n",
        "plt.title(\"best loss per lr\") # "
      ],
      "execution_count": null,
      "outputs": [
        {
          "output_type": "execute_result",
          "data": {
            "text/plain": [
              "Text(0.5, 1.0, 'best loss per lr')"
            ]
          },
          "metadata": {
            "tags": []
          },
          "execution_count": 78
        },
        {
          "output_type": "display_data",
          "data": {
            "image/png": "[encoded data removed]",
            "text/plain": [
              "<Figure size 432x288 with 1 Axes>"
            ]
          },
          "metadata": {
            "tags": [],
            "needs_background": "light"
          }
        }
      ]
    },
    {
      "cell_type": "markdown",
      "metadata": {
        "id": "CEViTeFdsNuB"
      },
      "source": [
        "### run finer search**"
      ]
    },
    {
      "cell_type": "code",
      "metadata": {
        "id": "sYWeso1pbF_3"
      },
      "source": [
        "# run finer search\n",
        "Lss={}\n",
        "for i in range(10):\n",
        "  H=model.Train(Xt,Yt,10,lr,adam=True,verbose=False)\n",
        "  print(\"finished lr %f, min loss %f\"%(lr,min(H['val_loss'])))\n",
        "  Lss[lr]=(min(H['val_loss']))\n",
        "  \n"
      ],
      "execution_count": null,
      "outputs": []
    },
    {
      "cell_type": "code",
      "metadata": {
        "id": "YGLLgeY2hIK2"
      },
      "source": [
        "ls2=cp.asnumpy(list(Lss.values()))\n",
        "plt.scatter(list(Lss.keys()),ls2) # \n",
        "plt.xlabel(\"lr\")\n",
        "plt.ylabel('val loss')\n",
        "plt.title(\"best loss per lr\") # the best is around 0.001"
      ],
      "execution_count": null,
      "outputs": []
    },
    {
      "cell_type": "code",
      "metadata": {
        "id": "uhW14zkzcSsT"
      },
      "source": [
        ""
      ],
      "execution_count": null,
      "outputs": []
    },
    {
      "cell_type": "markdown",
      "metadata": {
        "id": "M1UJFMrVwlaT"
      },
      "source": [
        "## Training The model"
      ]
    },
    {
      "cell_type": "code",
      "metadata": {
        "id": "6vzqM2mZwnS4"
      },
      "source": [
        "model=Model()\n",
        "model.Sequential([\n",
        "                          Input((32,32,3)),\n",
        "                          #Conv2D(16,5,1,'same'),\n",
        "                          #MaxPooling(2,1),\n",
        "\n",
        "                          Conv2D(8,3,1,activ_fn='relu',padding='same'),\n",
        "                          MaxPooling(2,2),\n",
        "                          Conv2D(16,3,1,activ_fn='relu',padding='same'),\n",
        "                          MaxPooling(2,2),\n",
        "                          #Dropout_Layer(0.3),\n",
        "                  \n",
        "                          Conv2D(32,3,1,'same',activ_fn='relu'),\n",
        "                          MaxPooling(2,2),\n",
        "              \n",
        "                          #Dropout_Layer(0.3),\n",
        "                  \n",
        "                          Flattening_Layer(),\n",
        "                          Dense(100),\n",
        "                          Dropout_Layer(0.3),                 \n",
        "                          \n",
        "                          Dense(100),\n",
        "                          Dropout_Layer(0.3),\n",
        "\n",
        "                          Dense(5,'softmax')])\n"
      ],
      "execution_count": null,
      "outputs": []
    },
    {
      "cell_type": "code",
      "metadata": {
        "id": "zPNNmA88wou8"
      },
      "source": [
        "# train the model\n",
        "H=model.Train(Xt,Yt,320,0.001,batch_size=-1,adam=True)"
      ],
      "execution_count": null,
      "outputs": []
    },
    {
      "cell_type": "code",
      "metadata": {
        "id": "98aoPdvsS5UX",
        "colab": {
          "base_uri": "https://localhost:8080/",
          "height": 295
        },
        "outputId": "fedb7cbd-e0ce-4337-dea8-4cfab3679b6f"
      },
      "source": [
        "import matplotlib.pyplot as plt\n",
        "plt.plot(H.history['loss'][3:])\n",
        "plt.plot(H.history['val_loss'][3:])\n",
        "plt.legend(('train loss','val losss'))\n",
        "plt.title('loss')\n",
        "plt.xlabel('epoch')\n",
        "plt.ylabel('loss value')\n",
        "plt.show()"
      ],
      "execution_count": null,
      "outputs": [
        {
          "output_type": "display_data",
          "data": {
            "image/png": "[encoded data removed]",
            "text/plain": [
              "<Figure size 432x288 with 1 Axes>"
            ]
          },
          "metadata": {
            "tags": [],
            "needs_background": "light"
          }
        }
      ]
    },
    {
      "cell_type": "code",
      "metadata": {
        "id": "DPU6YVcRYeDM",
        "colab": {
          "base_uri": "https://localhost:8080/",
          "height": 295
        },
        "outputId": "a0467012-39a2-477c-b1db-c6382527e9e5"
      },
      "source": [
        "plt.plot(H.history['accuracy'])\n",
        "plt.plot(H.history['val_accuracy'])\n",
        "plt.legend(('train acc','val acc'))\n",
        "plt.title('accuracy')\n",
        "plt.xlabel('epoch')\n",
        "plt.ylabel('Accuracy')\n",
        "plt.show()"
      ],
      "execution_count": null,
      "outputs": [
        {
          "output_type": "display_data",
          "data": {
            "image/png": "[encoded data removed]",
            "text/plain": [
              "<Figure size 432x288 with 1 Axes>"
            ]
          },
          "metadata": {
            "tags": [],
            "needs_background": "light"
          }
        }
      ]
    },
    {
      "cell_type": "code",
      "metadata": {
        "id": "RfPycXpcw2_y"
      },
      "source": [
        ""
      ],
      "execution_count": null,
      "outputs": []
    },
    {
      "cell_type": "code",
      "metadata": {
        "id": "ZQbZqJtFw3dj"
      },
      "source": [
        ""
      ],
      "execution_count": null,
      "outputs": []
    },
    {
      "cell_type": "markdown",
      "metadata": {
        "id": "pILTYv6cw3r3"
      },
      "source": [
        "## CCRN\n",
        "\n",
        "\n"
      ]
    },
    {
      "cell_type": "code",
      "metadata": {
        "id": "pyVgqYNJrkQx"
      },
      "source": [
        "#model.save_model('2nd_best',0.001)"
      ],
      "execution_count": null,
      "outputs": []
    },
    {
      "cell_type": "markdown",
      "metadata": {
        "id": "JjbgBGFkyUs6"
      },
      "source": [
        "### Best Model CCRN"
      ]
    },
    {
      "cell_type": "code",
      "metadata": {
        "id": "n0Shh2q0Qe6E"
      },
      "source": [
        "model=Model()\n",
        "model.load_model('kk.pickle')"
      ],
      "execution_count": null,
      "outputs": []
    },
    {
      "cell_type": "code",
      "metadata": {
        "colab": {
          "base_uri": "https://localhost:8080/"
        },
        "id": "4-XJpfDWydXZ",
        "outputId": "7f267a7b-8f59-446c-9179-f3d85c1ada77"
      },
      "source": [
        "ccrns=model.CCRn(y_test,X_test)\n",
        "names=[\"daisy\", \"dandelion\", \"roses\", \"sunflowers\", \"tulips\"]\n",
        "print((ccrns))\n",
        "for k in sorted(ccrns):\n",
        "  print( 'accuracy for class %d (%s) is %f'%(k,names[k-1],ccrns[k]))"
      ],
      "execution_count": null,
      "outputs": [
        {
          "output_type": "stream",
          "text": [
            "{4: 0.89, 2: 0.92, 1: 0.92, 5: 0.7, 3: 0.88}\n",
            "accuracy for class 1 (daisy) is 0.920000\n",
            "accuracy for class 2 (dandelion) is 0.920000\n",
            "accuracy for class 3 (roses) is 0.880000\n",
            "accuracy for class 4 (sunflowers) is 0.890000\n",
            "accuracy for class 5 (tulips) is 0.700000\n"
          ],
          "name": "stdout"
        }
      ]
    },
    {
      "cell_type": "code",
      "metadata": {
        "colab": {
          "base_uri": "https://localhost:8080/",
          "height": 295
        },
        "id": "QlSMPCUvyd-v",
        "outputId": "be760146-0bd2-468f-e606-43c214c76b98"
      },
      "source": [
        "#represent them in bar chart\n",
        "plt.bar(ccrns.keys(),ccrns.values())\n",
        "plt.xlabel(\"classes\")\n",
        "plt.ylabel(\"accuracy\")\n",
        "plt.title(\"CCRn\")\n",
        "plt.show()"
      ],
      "execution_count": null,
      "outputs": [
        {
          "output_type": "display_data",
          "data": {
            "image/png": "[encoded data removed]",
            "text/plain": [
              "<Figure size 432x288 with 1 Axes>"
            ]
          },
          "metadata": {
            "tags": [],
            "needs_background": "light"
          }
        }
      ]
    },
    {
      "cell_type": "markdown",
      "metadata": {
        "id": "p2_zegEWxSEo"
      },
      "source": [
        "### 2nd Best model CCRN"
      ]
    },
    {
      "cell_type": "code",
      "metadata": {
        "id": "dKnACzhDxY_X"
      },
      "source": [
        "model=Model()\n",
        "model.load_model('2nd_best.pickle')"
      ],
      "execution_count": null,
      "outputs": []
    },
    {
      "cell_type": "code",
      "metadata": {
        "colab": {
          "base_uri": "https://localhost:8080/"
        },
        "id": "vne4wyJzxEtV",
        "outputId": "43a8d6f1-a08b-41b8-fb52-60657fd0581b"
      },
      "source": [
        "ccrns=model.CCRn(y_test,X_test)\n",
        "names=[\"daisy\", \"dandelion\", \"roses\", \"sunflowers\", \"tulips\"]\n",
        "print((ccrns))\n",
        "for k in sorted(ccrns):\n",
        "  print( 'accuracy for class %d (%s) is %f'%(k,names[k-1],ccrns[k]))"
      ],
      "execution_count": null,
      "outputs": [
        {
          "output_type": "stream",
          "text": [
            "{1: 0.82, 2: 0.5, 3: 0.59, 4: 0.77, 5: 0.9}\n",
            "accuracy for class 1 (daisy) is 0.820000\n",
            "accuracy for class 2 (dandelion) is 0.500000\n",
            "accuracy for class 3 (roses) is 0.590000\n",
            "accuracy for class 4 (sunflowers) is 0.770000\n",
            "accuracy for class 5 (tulips) is 0.900000\n"
          ],
          "name": "stdout"
        }
      ]
    },
    {
      "cell_type": "code",
      "metadata": {
        "colab": {
          "base_uri": "https://localhost:8080/",
          "height": 295
        },
        "id": "34veSkxzvW6h",
        "outputId": "d76b7da6-479c-4339-c750-cb9e9edd2c93"
      },
      "source": [
        "#represent them in bar chart\n",
        "plt.bar(ccrns.keys(),ccrns.values())\n",
        "plt.xlabel(\"classes\")\n",
        "plt.ylabel(\"accuracy\")\n",
        "plt.title(\"CCRn\")\n",
        "plt.show()"
      ],
      "execution_count": null,
      "outputs": [
        {
          "output_type": "display_data",
          "data": {
            "image/png": "[encoded data removed]",
            "text/plain": [
              "<Figure size 432x288 with 1 Axes>"
            ]
          },
          "metadata": {
            "tags": [],
            "needs_background": "light"
          }
        }
      ]
    },
    {
      "cell_type": "code",
      "metadata": {
        "id": "fpiCMlmCyz7W"
      },
      "source": [
        ""
      ],
      "execution_count": null,
      "outputs": []
    },
    {
      "cell_type": "markdown",
      "metadata": {
        "id": "cKwfPaw0y1KL"
      },
      "source": [
        "## ACCR For all Calsses"
      ]
    },
    {
      "cell_type": "code",
      "metadata": {
        "id": "4NWgV6i6yz-J"
      },
      "source": [
        ""
      ],
      "execution_count": null,
      "outputs": []
    },
    {
      "cell_type": "markdown",
      "metadata": {
        "id": "nRt4pc1Yy3Uh"
      },
      "source": [
        "### Best Model ACCR"
      ]
    },
    {
      "cell_type": "code",
      "metadata": {
        "id": "1C6dd2Tty0DJ"
      },
      "source": [
        "model=Model()\n",
        "model.load_model('kk.pickle')\n"
      ],
      "execution_count": null,
      "outputs": []
    },
    {
      "cell_type": "code",
      "metadata": {
        "id": "kwf2OL2uzsxP"
      },
      "source": [
        "BA=model.evaluate(X_test,y_test)"
      ],
      "execution_count": null,
      "outputs": []
    },
    {
      "cell_type": "code",
      "metadata": {
        "colab": {
          "base_uri": "https://localhost:8080/"
        },
        "id": "cqv2yD1Qy0Bi",
        "outputId": "32705f98-e93c-4254-e3fd-efd3afdc3cdc"
      },
      "source": [
        "print(\"Best Average Accuracy: %f \"%(BA))"
      ],
      "execution_count": null,
      "outputs": [
        {
          "output_type": "stream",
          "text": [
            "Best Average Accuracy: 0.862000 \n"
          ],
          "name": "stdout"
        }
      ]
    },
    {
      "cell_type": "markdown",
      "metadata": {
        "id": "t5cUmQ8Cz7qS"
      },
      "source": [
        "### 2nd Best ACCR"
      ]
    },
    {
      "cell_type": "code",
      "metadata": {
        "id": "r2dPdq2Lz6jX"
      },
      "source": [
        "model2=Model()\n",
        "model2.load_model('2nd_best.pickle')"
      ],
      "execution_count": null,
      "outputs": []
    },
    {
      "cell_type": "code",
      "metadata": {
        "id": "X_5VTMEwz6xj"
      },
      "source": [
        "BA2=model2.evaluate(os_tst_x,os_tst_y)"
      ],
      "execution_count": null,
      "outputs": []
    },
    {
      "cell_type": "code",
      "metadata": {
        "colab": {
          "base_uri": "https://localhost:8080/"
        },
        "id": "SghzENSF0GZy",
        "outputId": "dfb46853-5dd4-4182-dae0-220e69e641cc"
      },
      "source": [
        "print(\"Best Average Accuracy: %f \"%(BA2))"
      ],
      "execution_count": null,
      "outputs": [
        {
          "output_type": "stream",
          "text": [
            "Best Average Accuracy: 0.716000 \n"
          ],
          "name": "stdout"
        }
      ]
    },
    {
      "cell_type": "code",
      "metadata": {
        "id": "RhgzjepJz_Py"
      },
      "source": [
        ""
      ],
      "execution_count": null,
      "outputs": []
    },
    {
      "cell_type": "code",
      "metadata": {
        "id": "SizTOwwXz_xU"
      },
      "source": [
        ""
      ],
      "execution_count": null,
      "outputs": []
    },
    {
      "cell_type": "code",
      "metadata": {
        "id": "HTRW1uNMz_20"
      },
      "source": [
        ""
      ],
      "execution_count": null,
      "outputs": []
    }
  ]
}
